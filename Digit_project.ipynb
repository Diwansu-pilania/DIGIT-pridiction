{
  "nbformat": 4,
  "nbformat_minor": 0,
  "metadata": {
    "colab": {
      "provenance": [],
      "toc_visible": true,
      "authorship_tag": "ABX9TyNOsBiX9aLXVrjad77a1FMP",
      "include_colab_link": true
    },
    "kernelspec": {
      "name": "python3",
      "display_name": "Python 3"
    },
    "language_info": {
      "name": "python"
    }
  },
  "cells": [
    {
      "cell_type": "markdown",
      "metadata": {
        "id": "view-in-github",
        "colab_type": "text"
      },
      "source": [
        "<a href=\"https://colab.research.google.com/github/Diwansu-pilania/DIGIT-pridiction/blob/main/Digit_project.ipynb\" target=\"_parent\"><img src=\"https://colab.research.google.com/assets/colab-badge.svg\" alt=\"Open In Colab\"/></a>"
      ]
    },
    {
      "cell_type": "markdown",
      "source": [
        "#HANDWRITTEN DIGIT PROJECT"
      ],
      "metadata": {
        "id": "_1k3auUWkV5z"
      }
    },
    {
      "cell_type": "markdown",
      "source": [
        "##INSTALLING BASIC PYTORCH"
      ],
      "metadata": {
        "id": "yKhUpfpkkb_0"
      }
    },
    {
      "cell_type": "code",
      "execution_count": 1,
      "metadata": {
        "colab": {
          "base_uri": "https://localhost:8080/"
        },
        "id": "9MkqjTE-VIsV",
        "outputId": "7413f19a-b8e5-4bd2-8979-94fb9183df3c"
      },
      "outputs": [
        {
          "output_type": "stream",
          "name": "stdout",
          "text": [
            "Requirement already satisfied: torch in /usr/local/lib/python3.11/dist-packages (2.5.1+cu124)\n",
            "Collecting torch\n",
            "  Downloading torch-2.6.0-cp311-cp311-manylinux1_x86_64.whl.metadata (28 kB)\n",
            "Requirement already satisfied: torchvision in /usr/local/lib/python3.11/dist-packages (0.20.1+cu124)\n",
            "Collecting torchvision\n",
            "  Downloading torchvision-0.21.0-cp311-cp311-manylinux1_x86_64.whl.metadata (6.1 kB)\n",
            "Requirement already satisfied: matplotlib in /usr/local/lib/python3.11/dist-packages (3.10.0)\n",
            "Requirement already satisfied: filelock in /usr/local/lib/python3.11/dist-packages (from torch) (3.17.0)\n",
            "Requirement already satisfied: typing-extensions>=4.10.0 in /usr/local/lib/python3.11/dist-packages (from torch) (4.12.2)\n",
            "Requirement already satisfied: networkx in /usr/local/lib/python3.11/dist-packages (from torch) (3.4.2)\n",
            "Requirement already satisfied: jinja2 in /usr/local/lib/python3.11/dist-packages (from torch) (3.1.5)\n",
            "Requirement already satisfied: fsspec in /usr/local/lib/python3.11/dist-packages (from torch) (2024.10.0)\n",
            "Collecting nvidia-cuda-nvrtc-cu12==12.4.127 (from torch)\n",
            "  Downloading nvidia_cuda_nvrtc_cu12-12.4.127-py3-none-manylinux2014_x86_64.whl.metadata (1.5 kB)\n",
            "Collecting nvidia-cuda-runtime-cu12==12.4.127 (from torch)\n",
            "  Downloading nvidia_cuda_runtime_cu12-12.4.127-py3-none-manylinux2014_x86_64.whl.metadata (1.5 kB)\n",
            "Collecting nvidia-cuda-cupti-cu12==12.4.127 (from torch)\n",
            "  Downloading nvidia_cuda_cupti_cu12-12.4.127-py3-none-manylinux2014_x86_64.whl.metadata (1.6 kB)\n",
            "Collecting nvidia-cudnn-cu12==9.1.0.70 (from torch)\n",
            "  Downloading nvidia_cudnn_cu12-9.1.0.70-py3-none-manylinux2014_x86_64.whl.metadata (1.6 kB)\n",
            "Collecting nvidia-cublas-cu12==12.4.5.8 (from torch)\n",
            "  Downloading nvidia_cublas_cu12-12.4.5.8-py3-none-manylinux2014_x86_64.whl.metadata (1.5 kB)\n",
            "Collecting nvidia-cufft-cu12==11.2.1.3 (from torch)\n",
            "  Downloading nvidia_cufft_cu12-11.2.1.3-py3-none-manylinux2014_x86_64.whl.metadata (1.5 kB)\n",
            "Collecting nvidia-curand-cu12==10.3.5.147 (from torch)\n",
            "  Downloading nvidia_curand_cu12-10.3.5.147-py3-none-manylinux2014_x86_64.whl.metadata (1.5 kB)\n",
            "Collecting nvidia-cusolver-cu12==11.6.1.9 (from torch)\n",
            "  Downloading nvidia_cusolver_cu12-11.6.1.9-py3-none-manylinux2014_x86_64.whl.metadata (1.6 kB)\n",
            "Collecting nvidia-cusparse-cu12==12.3.1.170 (from torch)\n",
            "  Downloading nvidia_cusparse_cu12-12.3.1.170-py3-none-manylinux2014_x86_64.whl.metadata (1.6 kB)\n",
            "Collecting nvidia-cusparselt-cu12==0.6.2 (from torch)\n",
            "  Downloading nvidia_cusparselt_cu12-0.6.2-py3-none-manylinux2014_x86_64.whl.metadata (6.8 kB)\n",
            "Requirement already satisfied: nvidia-nccl-cu12==2.21.5 in /usr/local/lib/python3.11/dist-packages (from torch) (2.21.5)\n",
            "Requirement already satisfied: nvidia-nvtx-cu12==12.4.127 in /usr/local/lib/python3.11/dist-packages (from torch) (12.4.127)\n",
            "Collecting nvidia-nvjitlink-cu12==12.4.127 (from torch)\n",
            "  Downloading nvidia_nvjitlink_cu12-12.4.127-py3-none-manylinux2014_x86_64.whl.metadata (1.5 kB)\n",
            "Collecting triton==3.2.0 (from torch)\n",
            "  Downloading triton-3.2.0-cp311-cp311-manylinux_2_17_x86_64.manylinux2014_x86_64.whl.metadata (1.4 kB)\n",
            "Requirement already satisfied: sympy==1.13.1 in /usr/local/lib/python3.11/dist-packages (from torch) (1.13.1)\n",
            "Requirement already satisfied: mpmath<1.4,>=1.1.0 in /usr/local/lib/python3.11/dist-packages (from sympy==1.13.1->torch) (1.3.0)\n",
            "Requirement already satisfied: numpy in /usr/local/lib/python3.11/dist-packages (from torchvision) (1.26.4)\n",
            "Requirement already satisfied: pillow!=8.3.*,>=5.3.0 in /usr/local/lib/python3.11/dist-packages (from torchvision) (11.1.0)\n",
            "Requirement already satisfied: contourpy>=1.0.1 in /usr/local/lib/python3.11/dist-packages (from matplotlib) (1.3.1)\n",
            "Requirement already satisfied: cycler>=0.10 in /usr/local/lib/python3.11/dist-packages (from matplotlib) (0.12.1)\n",
            "Requirement already satisfied: fonttools>=4.22.0 in /usr/local/lib/python3.11/dist-packages (from matplotlib) (4.56.0)\n",
            "Requirement already satisfied: kiwisolver>=1.3.1 in /usr/local/lib/python3.11/dist-packages (from matplotlib) (1.4.8)\n",
            "Requirement already satisfied: packaging>=20.0 in /usr/local/lib/python3.11/dist-packages (from matplotlib) (24.2)\n",
            "Requirement already satisfied: pyparsing>=2.3.1 in /usr/local/lib/python3.11/dist-packages (from matplotlib) (3.2.1)\n",
            "Requirement already satisfied: python-dateutil>=2.7 in /usr/local/lib/python3.11/dist-packages (from matplotlib) (2.8.2)\n",
            "Requirement already satisfied: six>=1.5 in /usr/local/lib/python3.11/dist-packages (from python-dateutil>=2.7->matplotlib) (1.17.0)\n",
            "Requirement already satisfied: MarkupSafe>=2.0 in /usr/local/lib/python3.11/dist-packages (from jinja2->torch) (3.0.2)\n",
            "Downloading torch-2.6.0-cp311-cp311-manylinux1_x86_64.whl (766.7 MB)\n",
            "\u001b[2K   \u001b[90m━━━━━━━━━━━━━━━━━━━━━━━━━━━━━━━━━━━━━━━━\u001b[0m \u001b[32m766.7/766.7 MB\u001b[0m \u001b[31m2.4 MB/s\u001b[0m eta \u001b[36m0:00:00\u001b[0m\n",
            "\u001b[?25hDownloading nvidia_cublas_cu12-12.4.5.8-py3-none-manylinux2014_x86_64.whl (363.4 MB)\n",
            "\u001b[2K   \u001b[90m━━━━━━━━━━━━━━━━━━━━━━━━━━━━━━━━━━━━━━━━\u001b[0m \u001b[32m363.4/363.4 MB\u001b[0m \u001b[31m4.5 MB/s\u001b[0m eta \u001b[36m0:00:00\u001b[0m\n",
            "\u001b[?25hDownloading nvidia_cuda_cupti_cu12-12.4.127-py3-none-manylinux2014_x86_64.whl (13.8 MB)\n",
            "\u001b[2K   \u001b[90m━━━━━━━━━━━━━━━━━━━━━━━━━━━━━━━━━━━━━━━━\u001b[0m \u001b[32m13.8/13.8 MB\u001b[0m \u001b[31m69.9 MB/s\u001b[0m eta \u001b[36m0:00:00\u001b[0m\n",
            "\u001b[?25hDownloading nvidia_cuda_nvrtc_cu12-12.4.127-py3-none-manylinux2014_x86_64.whl (24.6 MB)\n",
            "\u001b[2K   \u001b[90m━━━━━━━━━━━━━━━━━━━━━━━━━━━━━━━━━━━━━━━━\u001b[0m \u001b[32m24.6/24.6 MB\u001b[0m \u001b[31m62.2 MB/s\u001b[0m eta \u001b[36m0:00:00\u001b[0m\n",
            "\u001b[?25hDownloading nvidia_cuda_runtime_cu12-12.4.127-py3-none-manylinux2014_x86_64.whl (883 kB)\n",
            "\u001b[2K   \u001b[90m━━━━━━━━━━━━━━━━━━━━━━━━━━━━━━━━━━━━━━━━\u001b[0m \u001b[32m883.7/883.7 kB\u001b[0m \u001b[31m44.4 MB/s\u001b[0m eta \u001b[36m0:00:00\u001b[0m\n",
            "\u001b[?25hDownloading nvidia_cudnn_cu12-9.1.0.70-py3-none-manylinux2014_x86_64.whl (664.8 MB)\n",
            "\u001b[2K   \u001b[90m━━━━━━━━━━━━━━━━━━━━━━━━━━━━━━━━━━━━━━━━\u001b[0m \u001b[32m664.8/664.8 MB\u001b[0m \u001b[31m1.2 MB/s\u001b[0m eta \u001b[36m0:00:00\u001b[0m\n",
            "\u001b[?25hDownloading nvidia_cufft_cu12-11.2.1.3-py3-none-manylinux2014_x86_64.whl (211.5 MB)\n",
            "\u001b[2K   \u001b[90m━━━━━━━━━━━━━━━━━━━━━━━━━━━━━━━━━━━━━━━━\u001b[0m \u001b[32m211.5/211.5 MB\u001b[0m \u001b[31m5.9 MB/s\u001b[0m eta \u001b[36m0:00:00\u001b[0m\n",
            "\u001b[?25hDownloading nvidia_curand_cu12-10.3.5.147-py3-none-manylinux2014_x86_64.whl (56.3 MB)\n",
            "\u001b[2K   \u001b[90m━━━━━━━━━━━━━━━━━━━━━━━━━━━━━━━━━━━━━━━━\u001b[0m \u001b[32m56.3/56.3 MB\u001b[0m \u001b[31m12.6 MB/s\u001b[0m eta \u001b[36m0:00:00\u001b[0m\n",
            "\u001b[?25hDownloading nvidia_cusolver_cu12-11.6.1.9-py3-none-manylinux2014_x86_64.whl (127.9 MB)\n",
            "\u001b[2K   \u001b[90m━━━━━━━━━━━━━━━━━━━━━━━━━━━━━━━━━━━━━━━━\u001b[0m \u001b[32m127.9/127.9 MB\u001b[0m \u001b[31m7.3 MB/s\u001b[0m eta \u001b[36m0:00:00\u001b[0m\n",
            "\u001b[?25hDownloading nvidia_cusparse_cu12-12.3.1.170-py3-none-manylinux2014_x86_64.whl (207.5 MB)\n",
            "\u001b[2K   \u001b[90m━━━━━━━━━━━━━━━━━━━━━━━━━━━━━━━━━━━━━━━━\u001b[0m \u001b[32m207.5/207.5 MB\u001b[0m \u001b[31m6.6 MB/s\u001b[0m eta \u001b[36m0:00:00\u001b[0m\n",
            "\u001b[?25hDownloading nvidia_cusparselt_cu12-0.6.2-py3-none-manylinux2014_x86_64.whl (150.1 MB)\n",
            "\u001b[2K   \u001b[90m━━━━━━━━━━━━━━━━━━━━━━━━━━━━━━━━━━━━━━━━\u001b[0m \u001b[32m150.1/150.1 MB\u001b[0m \u001b[31m6.7 MB/s\u001b[0m eta \u001b[36m0:00:00\u001b[0m\n",
            "\u001b[?25hDownloading nvidia_nvjitlink_cu12-12.4.127-py3-none-manylinux2014_x86_64.whl (21.1 MB)\n",
            "\u001b[2K   \u001b[90m━━━━━━━━━━━━━━━━━━━━━━━━━━━━━━━━━━━━━━━━\u001b[0m \u001b[32m21.1/21.1 MB\u001b[0m \u001b[31m91.4 MB/s\u001b[0m eta \u001b[36m0:00:00\u001b[0m\n",
            "\u001b[?25hDownloading triton-3.2.0-cp311-cp311-manylinux_2_17_x86_64.manylinux2014_x86_64.whl (253.2 MB)\n",
            "\u001b[2K   \u001b[90m━━━━━━━━━━━━━━━━━━━━━━━━━━━━━━━━━━━━━━━━\u001b[0m \u001b[32m253.2/253.2 MB\u001b[0m \u001b[31m4.8 MB/s\u001b[0m eta \u001b[36m0:00:00\u001b[0m\n",
            "\u001b[?25hDownloading torchvision-0.21.0-cp311-cp311-manylinux1_x86_64.whl (7.2 MB)\n",
            "\u001b[2K   \u001b[90m━━━━━━━━━━━━━━━━━━━━━━━━━━━━━━━━━━━━━━━━\u001b[0m \u001b[32m7.2/7.2 MB\u001b[0m \u001b[31m117.6 MB/s\u001b[0m eta \u001b[36m0:00:00\u001b[0m\n",
            "\u001b[?25hInstalling collected packages: triton, nvidia-cusparselt-cu12, nvidia-nvjitlink-cu12, nvidia-curand-cu12, nvidia-cufft-cu12, nvidia-cuda-runtime-cu12, nvidia-cuda-nvrtc-cu12, nvidia-cuda-cupti-cu12, nvidia-cublas-cu12, nvidia-cusparse-cu12, nvidia-cudnn-cu12, nvidia-cusolver-cu12, torch, torchvision\n",
            "  Attempting uninstall: triton\n",
            "    Found existing installation: triton 3.1.0\n",
            "    Uninstalling triton-3.1.0:\n",
            "      Successfully uninstalled triton-3.1.0\n",
            "  Attempting uninstall: nvidia-nvjitlink-cu12\n",
            "    Found existing installation: nvidia-nvjitlink-cu12 12.5.82\n",
            "    Uninstalling nvidia-nvjitlink-cu12-12.5.82:\n",
            "      Successfully uninstalled nvidia-nvjitlink-cu12-12.5.82\n",
            "  Attempting uninstall: nvidia-curand-cu12\n",
            "    Found existing installation: nvidia-curand-cu12 10.3.6.82\n",
            "    Uninstalling nvidia-curand-cu12-10.3.6.82:\n",
            "      Successfully uninstalled nvidia-curand-cu12-10.3.6.82\n",
            "  Attempting uninstall: nvidia-cufft-cu12\n",
            "    Found existing installation: nvidia-cufft-cu12 11.2.3.61\n",
            "    Uninstalling nvidia-cufft-cu12-11.2.3.61:\n",
            "      Successfully uninstalled nvidia-cufft-cu12-11.2.3.61\n",
            "  Attempting uninstall: nvidia-cuda-runtime-cu12\n",
            "    Found existing installation: nvidia-cuda-runtime-cu12 12.5.82\n",
            "    Uninstalling nvidia-cuda-runtime-cu12-12.5.82:\n",
            "      Successfully uninstalled nvidia-cuda-runtime-cu12-12.5.82\n",
            "  Attempting uninstall: nvidia-cuda-nvrtc-cu12\n",
            "    Found existing installation: nvidia-cuda-nvrtc-cu12 12.5.82\n",
            "    Uninstalling nvidia-cuda-nvrtc-cu12-12.5.82:\n",
            "      Successfully uninstalled nvidia-cuda-nvrtc-cu12-12.5.82\n",
            "  Attempting uninstall: nvidia-cuda-cupti-cu12\n",
            "    Found existing installation: nvidia-cuda-cupti-cu12 12.5.82\n",
            "    Uninstalling nvidia-cuda-cupti-cu12-12.5.82:\n",
            "      Successfully uninstalled nvidia-cuda-cupti-cu12-12.5.82\n",
            "  Attempting uninstall: nvidia-cublas-cu12\n",
            "    Found existing installation: nvidia-cublas-cu12 12.5.3.2\n",
            "    Uninstalling nvidia-cublas-cu12-12.5.3.2:\n",
            "      Successfully uninstalled nvidia-cublas-cu12-12.5.3.2\n",
            "  Attempting uninstall: nvidia-cusparse-cu12\n",
            "    Found existing installation: nvidia-cusparse-cu12 12.5.1.3\n",
            "    Uninstalling nvidia-cusparse-cu12-12.5.1.3:\n",
            "      Successfully uninstalled nvidia-cusparse-cu12-12.5.1.3\n",
            "  Attempting uninstall: nvidia-cudnn-cu12\n",
            "    Found existing installation: nvidia-cudnn-cu12 9.3.0.75\n",
            "    Uninstalling nvidia-cudnn-cu12-9.3.0.75:\n",
            "      Successfully uninstalled nvidia-cudnn-cu12-9.3.0.75\n",
            "  Attempting uninstall: nvidia-cusolver-cu12\n",
            "    Found existing installation: nvidia-cusolver-cu12 11.6.3.83\n",
            "    Uninstalling nvidia-cusolver-cu12-11.6.3.83:\n",
            "      Successfully uninstalled nvidia-cusolver-cu12-11.6.3.83\n",
            "  Attempting uninstall: torch\n",
            "    Found existing installation: torch 2.5.1+cu124\n",
            "    Uninstalling torch-2.5.1+cu124:\n",
            "      Successfully uninstalled torch-2.5.1+cu124\n",
            "  Attempting uninstall: torchvision\n",
            "    Found existing installation: torchvision 0.20.1+cu124\n",
            "    Uninstalling torchvision-0.20.1+cu124:\n",
            "      Successfully uninstalled torchvision-0.20.1+cu124\n",
            "\u001b[31mERROR: pip's dependency resolver does not currently take into account all the packages that are installed. This behaviour is the source of the following dependency conflicts.\n",
            "torchaudio 2.5.1+cu124 requires torch==2.5.1, but you have torch 2.6.0 which is incompatible.\n",
            "fastai 2.7.18 requires torch<2.6,>=1.10, but you have torch 2.6.0 which is incompatible.\u001b[0m\u001b[31m\n",
            "\u001b[0mSuccessfully installed nvidia-cublas-cu12-12.4.5.8 nvidia-cuda-cupti-cu12-12.4.127 nvidia-cuda-nvrtc-cu12-12.4.127 nvidia-cuda-runtime-cu12-12.4.127 nvidia-cudnn-cu12-9.1.0.70 nvidia-cufft-cu12-11.2.1.3 nvidia-curand-cu12-10.3.5.147 nvidia-cusolver-cu12-11.6.1.9 nvidia-cusparse-cu12-12.3.1.170 nvidia-cusparselt-cu12-0.6.2 nvidia-nvjitlink-cu12-12.4.127 torch-2.6.0 torchvision-0.21.0 triton-3.2.0\n"
          ]
        }
      ],
      "source": [
        "!pip install --upgrade torch torchvision matplotlib"
      ]
    },
    {
      "cell_type": "markdown",
      "source": [
        "##IMPORTOING LIBRARIES AND DATASETS"
      ],
      "metadata": {
        "id": "7VOkEY9Wkq4b"
      }
    },
    {
      "cell_type": "code",
      "source": [
        "from torchvision import datasets\n",
        "from torchvision.transforms import ToTensor"
      ],
      "metadata": {
        "id": "hGE9fP-aVgdd"
      },
      "execution_count": 2,
      "outputs": []
    },
    {
      "cell_type": "markdown",
      "source": [
        "##INITIALISING TEST AND TRAIN DATASET"
      ],
      "metadata": {
        "id": "XFoig3bykynM"
      }
    },
    {
      "cell_type": "code",
      "source": [
        " train_data = datasets.MNIST(\n",
        "    root = 'data',\n",
        "    train = True,\n",
        "    transform = ToTensor(),\n",
        "    download = True\n",
        ")\n",
        "test_data = datasets.MNIST(\n",
        "    root = 'data',\n",
        "    train = False,\n",
        "    transform = ToTensor(),\n",
        "    download = True\n",
        ")"
      ],
      "metadata": {
        "id": "VeGJ8L4zXWE3",
        "colab": {
          "base_uri": "https://localhost:8080/"
        },
        "outputId": "61c42166-9535-4b0e-b0df-36d317de6339"
      },
      "execution_count": 3,
      "outputs": [
        {
          "output_type": "stream",
          "name": "stderr",
          "text": [
            "100%|██████████| 9.91M/9.91M [00:00<00:00, 30.9MB/s]\n",
            "100%|██████████| 28.9k/28.9k [00:00<00:00, 1.67MB/s]\n",
            "100%|██████████| 1.65M/1.65M [00:00<00:00, 14.2MB/s]\n",
            "100%|██████████| 4.54k/4.54k [00:00<00:00, 9.23MB/s]\n"
          ]
        }
      ]
    },
    {
      "cell_type": "code",
      "source": [
        "train_data"
      ],
      "metadata": {
        "colab": {
          "base_uri": "https://localhost:8080/"
        },
        "id": "abtyde7YYEXs",
        "outputId": "8deaabc7-5429-4702-9e84-3b4fdfa758e1"
      },
      "execution_count": 4,
      "outputs": [
        {
          "output_type": "execute_result",
          "data": {
            "text/plain": [
              "Dataset MNIST\n",
              "    Number of datapoints: 60000\n",
              "    Root location: data\n",
              "    Split: Train\n",
              "    StandardTransform\n",
              "Transform: ToTensor()"
            ]
          },
          "metadata": {},
          "execution_count": 4
        }
      ]
    },
    {
      "cell_type": "code",
      "source": [
        "test_data"
      ],
      "metadata": {
        "colab": {
          "base_uri": "https://localhost:8080/"
        },
        "id": "H2tr83shYI18",
        "outputId": "46c5efbb-f84e-45b6-d295-b9cc38fba64c"
      },
      "execution_count": 5,
      "outputs": [
        {
          "output_type": "execute_result",
          "data": {
            "text/plain": [
              "Dataset MNIST\n",
              "    Number of datapoints: 10000\n",
              "    Root location: data\n",
              "    Split: Test\n",
              "    StandardTransform\n",
              "Transform: ToTensor()"
            ]
          },
          "metadata": {},
          "execution_count": 5
        }
      ]
    },
    {
      "cell_type": "code",
      "source": [
        "train_data.data.shape"
      ],
      "metadata": {
        "colab": {
          "base_uri": "https://localhost:8080/"
        },
        "id": "w8uglWtCYNXC",
        "outputId": "3ca5bbee-19e9-4358-f4b9-bab0e6efdf7e"
      },
      "execution_count": 6,
      "outputs": [
        {
          "output_type": "execute_result",
          "data": {
            "text/plain": [
              "torch.Size([60000, 28, 28])"
            ]
          },
          "metadata": {},
          "execution_count": 6
        }
      ]
    },
    {
      "cell_type": "code",
      "source": [
        "train_data.targets.size()"
      ],
      "metadata": {
        "colab": {
          "base_uri": "https://localhost:8080/"
        },
        "id": "--C8mNt5Yw8V",
        "outputId": "3872cce2-13c8-44f3-dd47-d74d6c4fe9ca"
      },
      "execution_count": 7,
      "outputs": [
        {
          "output_type": "execute_result",
          "data": {
            "text/plain": [
              "torch.Size([60000])"
            ]
          },
          "metadata": {},
          "execution_count": 7
        }
      ]
    },
    {
      "cell_type": "markdown",
      "source": [
        "###IMPORTING LOADERS"
      ],
      "metadata": {
        "id": "SQHynpjCk6Oj"
      }
    },
    {
      "cell_type": "code",
      "source": [
        "from torch.utils.data import DataLoader\n",
        "\n",
        "loaders = {\n",
        "    'train': DataLoader(train_data,\n",
        "                        batch_size=100,\n",
        "                        shuffle=True,\n",
        "                        num_workers=1),\n",
        "    'test': DataLoader(test_data,\n",
        "                        batch_size=100,\n",
        "                        shuffle=True,\n",
        "                        num_workers=1),\n",
        "}"
      ],
      "metadata": {
        "id": "7G2kQPYAY-vM"
      },
      "execution_count": 8,
      "outputs": []
    },
    {
      "cell_type": "markdown",
      "source": [
        "#INITIAALISING THE CNN"
      ],
      "metadata": {
        "id": "BCZXsbPVkOTD"
      }
    },
    {
      "cell_type": "code",
      "source": [
        "import torch.nn as nn\n",
        "import torch.nn.functional as F\n",
        "import torch.optim as optim\n",
        "\n",
        "class CNN(nn.Module):\n",
        "\n",
        "  def __init__(self):\n",
        "    super(CNN, self).__init__()\n",
        "\n",
        "    self.conv1 = nn.Conv2d(1 ,10, kernel_size=5)\n",
        "    self.conv2 = nn.Conv2d(10, 20, kernel_size=5)\n",
        "    self.conv2_drop = nn.Dropout2d()\n",
        "    self.fc1 = nn.Linear(320, 50)\n",
        "    self.fc2 = nn.Linear(50, 10)\n",
        "\n",
        "  def forward(self, x):\n",
        "    x = F.relu(F.max_pool2d(self.conv1(x), 2))\n",
        "    x = F.relu(F.max_pool2d(self.conv2_drop(self.conv2(x)), 2))\n",
        "    x = x.view(-1, 320)\n",
        "    x = F.relu(self.fc1(x))\n",
        "    x = F.dropout(x, training=self.training)\n",
        "    x = self.fc2(x)\n",
        "\n",
        "    return F.softmax(x)"
      ],
      "metadata": {
        "id": "NAS1X0cObk-t"
      },
      "execution_count": 9,
      "outputs": []
    },
    {
      "cell_type": "markdown",
      "source": [],
      "metadata": {
        "id": "EGeLqclCkS-D"
      }
    },
    {
      "cell_type": "markdown",
      "source": [
        "##INITIALISING HOW TO TRAIN EPOCH"
      ],
      "metadata": {
        "id": "porFeex4k_5z"
      }
    },
    {
      "cell_type": "code",
      "source": [
        "import torch\n",
        "\n",
        "device = torch.device('cuda' if torch.cuda.is_available() else 'cpu')\n",
        "\n",
        "model = CNN().to(device)\n",
        "\n",
        "optimizer = optim.Adam(model.parameters(),lr=0.001)\n",
        "\n",
        "loss_fn = nn.CrossEntropyLoss()\n",
        "\n",
        "def train(epoch):\n",
        "  model.train()\n",
        "  for batch_idx, (data,target) in enumerate(loaders['train']):\n",
        "    data,target = data.to(device), target.to(device)\n",
        "    optimizer.zero_grad()\n",
        "    output = model(data)\n",
        "    loss = loss_fn(output, target)\n",
        "    loss.backward()\n",
        "    optimizer.step()\n",
        "    if batch_idx % 20 ==0:\n",
        "      print(f'Train Epoch: {epoch} [{batch_idx*len(data)}/{len(loaders[\"train\"].dataset)} ({100.*batch_idx / len(loaders[\"train\"]):.0f}%)]\\t{loss.item():.6f}')\n",
        "\n",
        "def test():\n",
        "  model.eval()\n",
        "\n",
        "  test_loss = 0\n",
        "  correct = 0\n",
        "\n",
        "  with torch.no_grad():\n",
        "    for data, target in loaders['test']:\n",
        "        data, target = data.to(device), target.to(device)\n",
        "        output = model(data)\n",
        "        test_loss +=loss_fn(output,target).item()\n",
        "        pred = output.argmax(dim=1, keepdim=True)\n",
        "        correct += pred.eq(target.view_as(pred)).sum().item()\n",
        "\n",
        "\n",
        "  test_loss /= len(loaders['test'].dataset)\n",
        "  print(f'\\nTest set : average loss:{test_loss:4f}, Accuracy {correct}/{len(loaders[\"test\"].dataset)}({100.*correct / len(loaders[\"test\"].dataset):.0f}%\\n)')"
      ],
      "metadata": {
        "id": "VxrW8q5kmQ73"
      },
      "execution_count": 10,
      "outputs": []
    },
    {
      "cell_type": "markdown",
      "source": [
        "##TRAINING OF THE EPOCH"
      ],
      "metadata": {
        "id": "DcfHpw7NkFw7"
      }
    },
    {
      "cell_type": "code",
      "source": [
        "for epoch in range(1,11):\n",
        "  train(epoch)\n",
        "  test()"
      ],
      "metadata": {
        "id": "E6EpQlhjraO1",
        "colab": {
          "base_uri": "https://localhost:8080/"
        },
        "outputId": "68d25f11-6941-48d7-ce81-67a72c3f7aa4"
      },
      "execution_count": 11,
      "outputs": [
        {
          "output_type": "stream",
          "name": "stderr",
          "text": [
            "<ipython-input-9-66d4a7f1c165>:24: UserWarning: Implicit dimension choice for softmax has been deprecated. Change the call to include dim=X as an argument.\n",
            "  return F.softmax(x)\n"
          ]
        },
        {
          "output_type": "stream",
          "name": "stdout",
          "text": [
            "Train Epoch: 1 [0/60000 (0%)]\t2.302669\n",
            "Train Epoch: 1 [2000/60000 (3%)]\t2.283267\n",
            "Train Epoch: 1 [4000/60000 (7%)]\t2.260321\n",
            "Train Epoch: 1 [6000/60000 (10%)]\t2.107387\n",
            "Train Epoch: 1 [8000/60000 (13%)]\t1.933387\n",
            "Train Epoch: 1 [10000/60000 (17%)]\t1.949680\n",
            "Train Epoch: 1 [12000/60000 (20%)]\t1.885254\n",
            "Train Epoch: 1 [14000/60000 (23%)]\t1.849759\n",
            "Train Epoch: 1 [16000/60000 (27%)]\t1.839801\n",
            "Train Epoch: 1 [18000/60000 (30%)]\t1.848200\n",
            "Train Epoch: 1 [20000/60000 (33%)]\t1.847721\n",
            "Train Epoch: 1 [22000/60000 (37%)]\t1.745261\n",
            "Train Epoch: 1 [24000/60000 (40%)]\t1.761648\n",
            "Train Epoch: 1 [26000/60000 (43%)]\t1.777414\n",
            "Train Epoch: 1 [28000/60000 (47%)]\t1.726848\n",
            "Train Epoch: 1 [30000/60000 (50%)]\t1.710184\n",
            "Train Epoch: 1 [32000/60000 (53%)]\t1.655676\n",
            "Train Epoch: 1 [34000/60000 (57%)]\t1.626715\n",
            "Train Epoch: 1 [36000/60000 (60%)]\t1.655723\n",
            "Train Epoch: 1 [38000/60000 (63%)]\t1.614118\n",
            "Train Epoch: 1 [40000/60000 (67%)]\t1.640260\n",
            "Train Epoch: 1 [42000/60000 (70%)]\t1.608271\n",
            "Train Epoch: 1 [44000/60000 (73%)]\t1.553957\n",
            "Train Epoch: 1 [46000/60000 (77%)]\t1.595260\n",
            "Train Epoch: 1 [48000/60000 (80%)]\t1.630440\n",
            "Train Epoch: 1 [50000/60000 (83%)]\t1.641820\n",
            "Train Epoch: 1 [52000/60000 (87%)]\t1.690167\n",
            "Train Epoch: 1 [54000/60000 (90%)]\t1.614978\n",
            "Train Epoch: 1 [56000/60000 (93%)]\t1.656480\n",
            "Train Epoch: 1 [58000/60000 (97%)]\t1.566029\n",
            "\n",
            "Test set : average loss:0.015302, Accuracy 9339/10000(93%\n",
            ")\n",
            "Train Epoch: 2 [0/60000 (0%)]\t1.651005\n",
            "Train Epoch: 2 [2000/60000 (3%)]\t1.570273\n",
            "Train Epoch: 2 [4000/60000 (7%)]\t1.634855\n",
            "Train Epoch: 2 [6000/60000 (10%)]\t1.650075\n",
            "Train Epoch: 2 [8000/60000 (13%)]\t1.615691\n",
            "Train Epoch: 2 [10000/60000 (17%)]\t1.606841\n",
            "Train Epoch: 2 [12000/60000 (20%)]\t1.568774\n",
            "Train Epoch: 2 [14000/60000 (23%)]\t1.640179\n",
            "Train Epoch: 2 [16000/60000 (27%)]\t1.568244\n",
            "Train Epoch: 2 [18000/60000 (30%)]\t1.585194\n",
            "Train Epoch: 2 [20000/60000 (33%)]\t1.602862\n",
            "Train Epoch: 2 [22000/60000 (37%)]\t1.551058\n",
            "Train Epoch: 2 [24000/60000 (40%)]\t1.651415\n",
            "Train Epoch: 2 [26000/60000 (43%)]\t1.555085\n",
            "Train Epoch: 2 [28000/60000 (47%)]\t1.598528\n",
            "Train Epoch: 2 [30000/60000 (50%)]\t1.578463\n",
            "Train Epoch: 2 [32000/60000 (53%)]\t1.584619\n",
            "Train Epoch: 2 [34000/60000 (57%)]\t1.579746\n",
            "Train Epoch: 2 [36000/60000 (60%)]\t1.585469\n",
            "Train Epoch: 2 [38000/60000 (63%)]\t1.578240\n",
            "Train Epoch: 2 [40000/60000 (67%)]\t1.610934\n",
            "Train Epoch: 2 [42000/60000 (70%)]\t1.575502\n",
            "Train Epoch: 2 [44000/60000 (73%)]\t1.550680\n",
            "Train Epoch: 2 [46000/60000 (77%)]\t1.575210\n",
            "Train Epoch: 2 [48000/60000 (80%)]\t1.572928\n",
            "Train Epoch: 2 [50000/60000 (83%)]\t1.595367\n",
            "Train Epoch: 2 [52000/60000 (87%)]\t1.554715\n",
            "Train Epoch: 2 [54000/60000 (90%)]\t1.592262\n",
            "Train Epoch: 2 [56000/60000 (93%)]\t1.566655\n",
            "Train Epoch: 2 [58000/60000 (97%)]\t1.569900\n",
            "\n",
            "Test set : average loss:0.015140, Accuracy 9477/10000(95%\n",
            ")\n",
            "Train Epoch: 3 [0/60000 (0%)]\t1.555153\n",
            "Train Epoch: 3 [2000/60000 (3%)]\t1.576355\n",
            "Train Epoch: 3 [4000/60000 (7%)]\t1.554751\n",
            "Train Epoch: 3 [6000/60000 (10%)]\t1.589869\n",
            "Train Epoch: 3 [8000/60000 (13%)]\t1.589634\n",
            "Train Epoch: 3 [10000/60000 (17%)]\t1.572486\n",
            "Train Epoch: 3 [12000/60000 (20%)]\t1.542583\n",
            "Train Epoch: 3 [14000/60000 (23%)]\t1.575609\n",
            "Train Epoch: 3 [16000/60000 (27%)]\t1.564471\n",
            "Train Epoch: 3 [18000/60000 (30%)]\t1.611292\n",
            "Train Epoch: 3 [20000/60000 (33%)]\t1.512216\n",
            "Train Epoch: 3 [22000/60000 (37%)]\t1.607274\n",
            "Train Epoch: 3 [24000/60000 (40%)]\t1.517697\n",
            "Train Epoch: 3 [26000/60000 (43%)]\t1.633196\n",
            "Train Epoch: 3 [28000/60000 (47%)]\t1.542166\n",
            "Train Epoch: 3 [30000/60000 (50%)]\t1.579431\n",
            "Train Epoch: 3 [32000/60000 (53%)]\t1.611206\n",
            "Train Epoch: 3 [34000/60000 (57%)]\t1.558781\n",
            "Train Epoch: 3 [36000/60000 (60%)]\t1.585529\n",
            "Train Epoch: 3 [38000/60000 (63%)]\t1.593935\n",
            "Train Epoch: 3 [40000/60000 (67%)]\t1.645894\n",
            "Train Epoch: 3 [42000/60000 (70%)]\t1.567711\n",
            "Train Epoch: 3 [44000/60000 (73%)]\t1.571751\n",
            "Train Epoch: 3 [46000/60000 (77%)]\t1.510115\n",
            "Train Epoch: 3 [48000/60000 (80%)]\t1.583257\n",
            "Train Epoch: 3 [50000/60000 (83%)]\t1.544464\n",
            "Train Epoch: 3 [52000/60000 (87%)]\t1.518132\n",
            "Train Epoch: 3 [54000/60000 (90%)]\t1.551903\n",
            "Train Epoch: 3 [56000/60000 (93%)]\t1.529931\n",
            "Train Epoch: 3 [58000/60000 (97%)]\t1.556554\n",
            "\n",
            "Test set : average loss:0.015102, Accuracy 9498/10000(95%\n",
            ")\n",
            "Train Epoch: 4 [0/60000 (0%)]\t1.564861\n",
            "Train Epoch: 4 [2000/60000 (3%)]\t1.521381\n",
            "Train Epoch: 4 [4000/60000 (7%)]\t1.558808\n",
            "Train Epoch: 4 [6000/60000 (10%)]\t1.557152\n",
            "Train Epoch: 4 [8000/60000 (13%)]\t1.569579\n",
            "Train Epoch: 4 [10000/60000 (17%)]\t1.539997\n",
            "Train Epoch: 4 [12000/60000 (20%)]\t1.569487\n",
            "Train Epoch: 4 [14000/60000 (23%)]\t1.527169\n",
            "Train Epoch: 4 [16000/60000 (27%)]\t1.561165\n",
            "Train Epoch: 4 [18000/60000 (30%)]\t1.592448\n",
            "Train Epoch: 4 [20000/60000 (33%)]\t1.549280\n",
            "Train Epoch: 4 [22000/60000 (37%)]\t1.555652\n",
            "Train Epoch: 4 [24000/60000 (40%)]\t1.581201\n",
            "Train Epoch: 4 [26000/60000 (43%)]\t1.536125\n",
            "Train Epoch: 4 [28000/60000 (47%)]\t1.589798\n",
            "Train Epoch: 4 [30000/60000 (50%)]\t1.567380\n",
            "Train Epoch: 4 [32000/60000 (53%)]\t1.544557\n",
            "Train Epoch: 4 [34000/60000 (57%)]\t1.551920\n",
            "Train Epoch: 4 [36000/60000 (60%)]\t1.599037\n",
            "Train Epoch: 4 [38000/60000 (63%)]\t1.522774\n",
            "Train Epoch: 4 [40000/60000 (67%)]\t1.574678\n",
            "Train Epoch: 4 [42000/60000 (70%)]\t1.612098\n",
            "Train Epoch: 4 [44000/60000 (73%)]\t1.572050\n",
            "Train Epoch: 4 [46000/60000 (77%)]\t1.642111\n",
            "Train Epoch: 4 [48000/60000 (80%)]\t1.540611\n",
            "Train Epoch: 4 [50000/60000 (83%)]\t1.654185\n",
            "Train Epoch: 4 [52000/60000 (87%)]\t1.559040\n",
            "Train Epoch: 4 [54000/60000 (90%)]\t1.572270\n",
            "Train Epoch: 4 [56000/60000 (93%)]\t1.533338\n",
            "Train Epoch: 4 [58000/60000 (97%)]\t1.542038\n",
            "\n",
            "Test set : average loss:0.015018, Accuracy 9594/10000(96%\n",
            ")\n",
            "Train Epoch: 5 [0/60000 (0%)]\t1.534405\n",
            "Train Epoch: 5 [2000/60000 (3%)]\t1.527849\n",
            "Train Epoch: 5 [4000/60000 (7%)]\t1.563708\n",
            "Train Epoch: 5 [6000/60000 (10%)]\t1.504387\n",
            "Train Epoch: 5 [8000/60000 (13%)]\t1.543807\n",
            "Train Epoch: 5 [10000/60000 (17%)]\t1.537364\n",
            "Train Epoch: 5 [12000/60000 (20%)]\t1.529232\n",
            "Train Epoch: 5 [14000/60000 (23%)]\t1.517387\n",
            "Train Epoch: 5 [16000/60000 (27%)]\t1.560728\n",
            "Train Epoch: 5 [18000/60000 (30%)]\t1.525562\n",
            "Train Epoch: 5 [20000/60000 (33%)]\t1.556737\n",
            "Train Epoch: 5 [22000/60000 (37%)]\t1.584078\n",
            "Train Epoch: 5 [24000/60000 (40%)]\t1.563348\n",
            "Train Epoch: 5 [26000/60000 (43%)]\t1.579011\n",
            "Train Epoch: 5 [28000/60000 (47%)]\t1.563853\n",
            "Train Epoch: 5 [30000/60000 (50%)]\t1.552223\n",
            "Train Epoch: 5 [32000/60000 (53%)]\t1.550363\n",
            "Train Epoch: 5 [34000/60000 (57%)]\t1.577463\n",
            "Train Epoch: 5 [36000/60000 (60%)]\t1.595315\n",
            "Train Epoch: 5 [38000/60000 (63%)]\t1.545256\n",
            "Train Epoch: 5 [40000/60000 (67%)]\t1.577886\n",
            "Train Epoch: 5 [42000/60000 (70%)]\t1.535676\n",
            "Train Epoch: 5 [44000/60000 (73%)]\t1.558642\n",
            "Train Epoch: 5 [46000/60000 (77%)]\t1.534364\n",
            "Train Epoch: 5 [48000/60000 (80%)]\t1.567244\n",
            "Train Epoch: 5 [50000/60000 (83%)]\t1.532762\n",
            "Train Epoch: 5 [52000/60000 (87%)]\t1.530603\n",
            "Train Epoch: 5 [54000/60000 (90%)]\t1.544404\n",
            "Train Epoch: 5 [56000/60000 (93%)]\t1.506408\n",
            "Train Epoch: 5 [58000/60000 (97%)]\t1.597871\n",
            "\n",
            "Test set : average loss:0.014954, Accuracy 9655/10000(97%\n",
            ")\n",
            "Train Epoch: 6 [0/60000 (0%)]\t1.541079\n",
            "Train Epoch: 6 [2000/60000 (3%)]\t1.515163\n",
            "Train Epoch: 6 [4000/60000 (7%)]\t1.520092\n",
            "Train Epoch: 6 [6000/60000 (10%)]\t1.544852\n",
            "Train Epoch: 6 [8000/60000 (13%)]\t1.510081\n",
            "Train Epoch: 6 [10000/60000 (17%)]\t1.561999\n",
            "Train Epoch: 6 [12000/60000 (20%)]\t1.509924\n",
            "Train Epoch: 6 [14000/60000 (23%)]\t1.542134\n",
            "Train Epoch: 6 [16000/60000 (27%)]\t1.580809\n",
            "Train Epoch: 6 [18000/60000 (30%)]\t1.545176\n",
            "Train Epoch: 6 [20000/60000 (33%)]\t1.542409\n",
            "Train Epoch: 6 [22000/60000 (37%)]\t1.521177\n",
            "Train Epoch: 6 [24000/60000 (40%)]\t1.569846\n",
            "Train Epoch: 6 [26000/60000 (43%)]\t1.558248\n",
            "Train Epoch: 6 [28000/60000 (47%)]\t1.532760\n",
            "Train Epoch: 6 [30000/60000 (50%)]\t1.544812\n",
            "Train Epoch: 6 [32000/60000 (53%)]\t1.541151\n",
            "Train Epoch: 6 [34000/60000 (57%)]\t1.535090\n",
            "Train Epoch: 6 [36000/60000 (60%)]\t1.582224\n",
            "Train Epoch: 6 [38000/60000 (63%)]\t1.522637\n",
            "Train Epoch: 6 [40000/60000 (67%)]\t1.541452\n",
            "Train Epoch: 6 [42000/60000 (70%)]\t1.549738\n",
            "Train Epoch: 6 [44000/60000 (73%)]\t1.536417\n",
            "Train Epoch: 6 [46000/60000 (77%)]\t1.546377\n",
            "Train Epoch: 6 [48000/60000 (80%)]\t1.528846\n",
            "Train Epoch: 6 [50000/60000 (83%)]\t1.533359\n",
            "Train Epoch: 6 [52000/60000 (87%)]\t1.600336\n",
            "Train Epoch: 6 [54000/60000 (90%)]\t1.478757\n",
            "Train Epoch: 6 [56000/60000 (93%)]\t1.528021\n",
            "Train Epoch: 6 [58000/60000 (97%)]\t1.525118\n",
            "\n",
            "Test set : average loss:0.014950, Accuracy 9665/10000(97%\n",
            ")\n",
            "Train Epoch: 7 [0/60000 (0%)]\t1.542967\n",
            "Train Epoch: 7 [2000/60000 (3%)]\t1.556660\n",
            "Train Epoch: 7 [4000/60000 (7%)]\t1.548133\n",
            "Train Epoch: 7 [6000/60000 (10%)]\t1.557458\n",
            "Train Epoch: 7 [8000/60000 (13%)]\t1.515499\n",
            "Train Epoch: 7 [10000/60000 (17%)]\t1.534177\n",
            "Train Epoch: 7 [12000/60000 (20%)]\t1.575245\n",
            "Train Epoch: 7 [14000/60000 (23%)]\t1.537632\n",
            "Train Epoch: 7 [16000/60000 (27%)]\t1.530088\n",
            "Train Epoch: 7 [18000/60000 (30%)]\t1.580774\n",
            "Train Epoch: 7 [20000/60000 (33%)]\t1.540140\n",
            "Train Epoch: 7 [22000/60000 (37%)]\t1.560826\n",
            "Train Epoch: 7 [24000/60000 (40%)]\t1.552151\n",
            "Train Epoch: 7 [26000/60000 (43%)]\t1.576976\n",
            "Train Epoch: 7 [28000/60000 (47%)]\t1.531046\n",
            "Train Epoch: 7 [30000/60000 (50%)]\t1.553054\n",
            "Train Epoch: 7 [32000/60000 (53%)]\t1.543292\n",
            "Train Epoch: 7 [34000/60000 (57%)]\t1.540451\n",
            "Train Epoch: 7 [36000/60000 (60%)]\t1.531884\n",
            "Train Epoch: 7 [38000/60000 (63%)]\t1.538578\n",
            "Train Epoch: 7 [40000/60000 (67%)]\t1.521902\n",
            "Train Epoch: 7 [42000/60000 (70%)]\t1.534010\n",
            "Train Epoch: 7 [44000/60000 (73%)]\t1.601047\n",
            "Train Epoch: 7 [46000/60000 (77%)]\t1.490410\n",
            "Train Epoch: 7 [48000/60000 (80%)]\t1.510713\n",
            "Train Epoch: 7 [50000/60000 (83%)]\t1.523565\n",
            "Train Epoch: 7 [52000/60000 (87%)]\t1.542439\n",
            "Train Epoch: 7 [54000/60000 (90%)]\t1.525798\n",
            "Train Epoch: 7 [56000/60000 (93%)]\t1.516341\n",
            "Train Epoch: 7 [58000/60000 (97%)]\t1.549308\n",
            "\n",
            "Test set : average loss:0.014932, Accuracy 9688/10000(97%\n",
            ")\n",
            "Train Epoch: 8 [0/60000 (0%)]\t1.512627\n",
            "Train Epoch: 8 [2000/60000 (3%)]\t1.536220\n",
            "Train Epoch: 8 [4000/60000 (7%)]\t1.528217\n",
            "Train Epoch: 8 [6000/60000 (10%)]\t1.507021\n",
            "Train Epoch: 8 [8000/60000 (13%)]\t1.492162\n",
            "Train Epoch: 8 [10000/60000 (17%)]\t1.585744\n",
            "Train Epoch: 8 [12000/60000 (20%)]\t1.527500\n",
            "Train Epoch: 8 [14000/60000 (23%)]\t1.533538\n",
            "Train Epoch: 8 [16000/60000 (27%)]\t1.529227\n",
            "Train Epoch: 8 [18000/60000 (30%)]\t1.550519\n",
            "Train Epoch: 8 [20000/60000 (33%)]\t1.559353\n",
            "Train Epoch: 8 [22000/60000 (37%)]\t1.529741\n",
            "Train Epoch: 8 [24000/60000 (40%)]\t1.525539\n",
            "Train Epoch: 8 [26000/60000 (43%)]\t1.552697\n",
            "Train Epoch: 8 [28000/60000 (47%)]\t1.549418\n",
            "Train Epoch: 8 [30000/60000 (50%)]\t1.530403\n",
            "Train Epoch: 8 [32000/60000 (53%)]\t1.532374\n",
            "Train Epoch: 8 [34000/60000 (57%)]\t1.568561\n",
            "Train Epoch: 8 [36000/60000 (60%)]\t1.579133\n",
            "Train Epoch: 8 [38000/60000 (63%)]\t1.540915\n",
            "Train Epoch: 8 [40000/60000 (67%)]\t1.572365\n",
            "Train Epoch: 8 [42000/60000 (70%)]\t1.586251\n",
            "Train Epoch: 8 [44000/60000 (73%)]\t1.504124\n",
            "Train Epoch: 8 [46000/60000 (77%)]\t1.520719\n",
            "Train Epoch: 8 [48000/60000 (80%)]\t1.560823\n",
            "Train Epoch: 8 [50000/60000 (83%)]\t1.545654\n",
            "Train Epoch: 8 [52000/60000 (87%)]\t1.552241\n",
            "Train Epoch: 8 [54000/60000 (90%)]\t1.566382\n",
            "Train Epoch: 8 [56000/60000 (93%)]\t1.579739\n",
            "Train Epoch: 8 [58000/60000 (97%)]\t1.515860\n",
            "\n",
            "Test set : average loss:0.014926, Accuracy 9683/10000(97%\n",
            ")\n",
            "Train Epoch: 9 [0/60000 (0%)]\t1.527773\n",
            "Train Epoch: 9 [2000/60000 (3%)]\t1.523986\n",
            "Train Epoch: 9 [4000/60000 (7%)]\t1.511482\n",
            "Train Epoch: 9 [6000/60000 (10%)]\t1.540905\n",
            "Train Epoch: 9 [8000/60000 (13%)]\t1.540849\n",
            "Train Epoch: 9 [10000/60000 (17%)]\t1.552195\n",
            "Train Epoch: 9 [12000/60000 (20%)]\t1.539443\n",
            "Train Epoch: 9 [14000/60000 (23%)]\t1.525076\n",
            "Train Epoch: 9 [16000/60000 (27%)]\t1.504974\n",
            "Train Epoch: 9 [18000/60000 (30%)]\t1.547026\n",
            "Train Epoch: 9 [20000/60000 (33%)]\t1.523852\n",
            "Train Epoch: 9 [22000/60000 (37%)]\t1.550128\n",
            "Train Epoch: 9 [24000/60000 (40%)]\t1.501203\n",
            "Train Epoch: 9 [26000/60000 (43%)]\t1.494707\n",
            "Train Epoch: 9 [28000/60000 (47%)]\t1.548372\n",
            "Train Epoch: 9 [30000/60000 (50%)]\t1.514378\n",
            "Train Epoch: 9 [32000/60000 (53%)]\t1.503469\n",
            "Train Epoch: 9 [34000/60000 (57%)]\t1.524241\n",
            "Train Epoch: 9 [36000/60000 (60%)]\t1.557834\n",
            "Train Epoch: 9 [38000/60000 (63%)]\t1.523463\n",
            "Train Epoch: 9 [40000/60000 (67%)]\t1.491768\n",
            "Train Epoch: 9 [42000/60000 (70%)]\t1.538769\n",
            "Train Epoch: 9 [44000/60000 (73%)]\t1.553853\n",
            "Train Epoch: 9 [46000/60000 (77%)]\t1.566479\n",
            "Train Epoch: 9 [48000/60000 (80%)]\t1.546526\n",
            "Train Epoch: 9 [50000/60000 (83%)]\t1.487769\n",
            "Train Epoch: 9 [52000/60000 (87%)]\t1.614508\n",
            "Train Epoch: 9 [54000/60000 (90%)]\t1.535782\n",
            "Train Epoch: 9 [56000/60000 (93%)]\t1.549490\n",
            "Train Epoch: 9 [58000/60000 (97%)]\t1.540003\n",
            "\n",
            "Test set : average loss:0.014902, Accuracy 9704/10000(97%\n",
            ")\n",
            "Train Epoch: 10 [0/60000 (0%)]\t1.530143\n",
            "Train Epoch: 10 [2000/60000 (3%)]\t1.543137\n",
            "Train Epoch: 10 [4000/60000 (7%)]\t1.541922\n",
            "Train Epoch: 10 [6000/60000 (10%)]\t1.569442\n",
            "Train Epoch: 10 [8000/60000 (13%)]\t1.557680\n",
            "Train Epoch: 10 [10000/60000 (17%)]\t1.521692\n",
            "Train Epoch: 10 [12000/60000 (20%)]\t1.521830\n",
            "Train Epoch: 10 [14000/60000 (23%)]\t1.551248\n",
            "Train Epoch: 10 [16000/60000 (27%)]\t1.510535\n",
            "Train Epoch: 10 [18000/60000 (30%)]\t1.506860\n",
            "Train Epoch: 10 [20000/60000 (33%)]\t1.577659\n",
            "Train Epoch: 10 [22000/60000 (37%)]\t1.525462\n",
            "Train Epoch: 10 [24000/60000 (40%)]\t1.532047\n",
            "Train Epoch: 10 [26000/60000 (43%)]\t1.511926\n",
            "Train Epoch: 10 [28000/60000 (47%)]\t1.512862\n",
            "Train Epoch: 10 [30000/60000 (50%)]\t1.517341\n",
            "Train Epoch: 10 [32000/60000 (53%)]\t1.534983\n",
            "Train Epoch: 10 [34000/60000 (57%)]\t1.498318\n",
            "Train Epoch: 10 [36000/60000 (60%)]\t1.524505\n",
            "Train Epoch: 10 [38000/60000 (63%)]\t1.513510\n",
            "Train Epoch: 10 [40000/60000 (67%)]\t1.523986\n",
            "Train Epoch: 10 [42000/60000 (70%)]\t1.510426\n",
            "Train Epoch: 10 [44000/60000 (73%)]\t1.535735\n",
            "Train Epoch: 10 [46000/60000 (77%)]\t1.521850\n",
            "Train Epoch: 10 [48000/60000 (80%)]\t1.533997\n",
            "Train Epoch: 10 [50000/60000 (83%)]\t1.515046\n",
            "Train Epoch: 10 [52000/60000 (87%)]\t1.506490\n",
            "Train Epoch: 10 [54000/60000 (90%)]\t1.548902\n",
            "Train Epoch: 10 [56000/60000 (93%)]\t1.526995\n",
            "Train Epoch: 10 [58000/60000 (97%)]\t1.504307\n",
            "\n",
            "Test set : average loss:0.014914, Accuracy 9700/10000(97%\n",
            ")\n"
          ]
        }
      ]
    },
    {
      "cell_type": "code",
      "source": [
        "device"
      ],
      "metadata": {
        "colab": {
          "base_uri": "https://localhost:8080/"
        },
        "id": "66e9i0Tg0Mri",
        "outputId": "c7a05645-b1a5-4328-925a-4f45567b9c44"
      },
      "execution_count": 12,
      "outputs": [
        {
          "output_type": "execute_result",
          "data": {
            "text/plain": [
              "device(type='cpu')"
            ]
          },
          "metadata": {},
          "execution_count": 12
        }
      ]
    },
    {
      "cell_type": "markdown",
      "source": [
        "##PREDICTION OF TEST DATA"
      ],
      "metadata": {
        "id": "9NmG_UYQj0zv"
      }
    },
    {
      "cell_type": "code",
      "source": [
        "import matplotlib.pyplot as plt\n",
        "\n",
        "model.eval()\n",
        "\n",
        "data, target = test_data[9]\n",
        "\n",
        "data = data.unsqueeze(0).to(device)\n",
        "\n",
        "output = model(data)\n",
        "\n",
        "prediction = output.argmax(dim=1,keepdim=True).item()\n",
        "\n",
        "print(f'PREDICTION: {prediction}')\n",
        "\n",
        "image = data.squeeze(0).squeeze(0).cpu().numpy()\n",
        "\n",
        "plt.imshow(image, cmap='gray')\n",
        "plt.show()\n",
        "\n"
      ],
      "metadata": {
        "colab": {
          "base_uri": "https://localhost:8080/",
          "height": 482
        },
        "id": "Fz7rlYJh5Tca",
        "outputId": "a36f75f9-fc4b-4b76-a6ed-ac7b8ad66f61"
      },
      "execution_count": 13,
      "outputs": [
        {
          "output_type": "stream",
          "name": "stdout",
          "text": [
            "PREDICTION: 9\n"
          ]
        },
        {
          "output_type": "stream",
          "name": "stderr",
          "text": [
            "<ipython-input-9-66d4a7f1c165>:24: UserWarning: Implicit dimension choice for softmax has been deprecated. Change the call to include dim=X as an argument.\n",
            "  return F.softmax(x)\n"
          ]
        },
        {
          "output_type": "display_data",
          "data": {
            "text/plain": [
              "<Figure size 640x480 with 1 Axes>"
            ],
            "image/png": "[encoded data removed]"
          },
          "metadata": {}
        }
      ]
    },
    {
      "cell_type": "markdown",
      "source": [
        "##PREDICTION OF ANY HANDWRITTEN DIGIT"
      ],
      "metadata": {
        "id": "2PlmTVtOj8uy"
      }
    },
    {
      "cell_type": "code",
      "source": [
        "from PIL import Image\n",
        "import torchvision.transforms as transforms\n",
        "\n",
        "\n",
        "def load_image(image_path):\n",
        "    transform = transforms.Compose([\n",
        "        transforms.Resize((28, 28)),\n",
        "        transforms.ToTensor(),\n",
        "        transforms.Normalize((0.1307,), (0.3081,))\n",
        "    ])\n",
        "    image = Image.open(image_path).convert('L')\n",
        "    image = transform(image).unsqueeze(0)\n",
        "    return image\n",
        "\n",
        "image_path = '/content/THREE.jpg'\n",
        "image_tensor = load_image(image_path)"
      ],
      "metadata": {
        "id": "51vFmWsn6nd7"
      },
      "execution_count": 26,
      "outputs": []
    },
    {
      "cell_type": "code",
      "source": [
        "model.eval()\n",
        "with torch.no_grad():\n",
        "    output = model(image_tensor.to(device))\n",
        "    prediction = output.argmax(dim=1, keepdim=True).item()\n",
        "\n",
        "print(f'Prediction: {prediction}')\n",
        "\n",
        "image = image_tensor.squeeze(0).squeeze(0).cpu().numpy()\n",
        "plt.imshow(image, cmap='gray')\n",
        "plt.title(f'Predicted Digit: {prediction}')\n",
        "plt.axis('off')  # Hide axes\n",
        "plt.show()"
      ],
      "metadata": {
        "colab": {
          "base_uri": "https://localhost:8080/",
          "height": 480
        },
        "id": "_tS4XHMIhg40",
        "outputId": "b69fada4-e2fe-4acc-b171-9b37e7686014"
      },
      "execution_count": 27,
      "outputs": [
        {
          "output_type": "stream",
          "name": "stdout",
          "text": [
            "Prediction: 3\n"
          ]
        },
        {
          "output_type": "stream",
          "name": "stderr",
          "text": [
            "<ipython-input-9-66d4a7f1c165>:24: UserWarning: Implicit dimension choice for softmax has been deprecated. Change the call to include dim=X as an argument.\n",
            "  return F.softmax(x)\n"
          ]
        },
        {
          "output_type": "display_data",
          "data": {
            "text/plain": [
              "<Figure size 640x480 with 1 Axes>"
            ],
            "image/png": "[encoded data removed]"
          },
          "metadata": {}
        }
      ]
    },
    {
      "cell_type": "code",
      "source": [],
      "metadata": {
        "id": "QZ1yzZ03hvbi"
      },
      "execution_count": null,
      "outputs": []
    }
  ]
}